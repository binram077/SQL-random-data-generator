{
  "nbformat": 4,
  "nbformat_minor": 0,
  "metadata": {
    "colab": {
      "name": "public SQLdata_generator.ipynb",
      "provenance": [],
      "collapsed_sections": [],
      "authorship_tag": "ABX9TyOBbV5k36VB0jYexoPDTz6I",
      "include_colab_link": true
    },
    "kernelspec": {
      "name": "python3",
      "display_name": "Python 3"
    },
    "language_info": {
      "name": "python"
    }
  },
  "cells": [
    {
      "cell_type": "markdown",
      "metadata": {
        "id": "view-in-github",
        "colab_type": "text"
      },
      "source": [
        "<a href=\"https://colab.research.google.com/github/binram077/SQL-random-data-generator/blob/main/public_SQLdata_generator.ipynb\" target=\"_parent\"><img src=\"https://colab.research.google.com/assets/colab-badge.svg\" alt=\"Open In Colab\"/></a>"
      ]
    },
    {
      "cell_type": "code",
      "metadata": {
        "colab": {
          "base_uri": "https://localhost:8080/"
        },
        "id": "3Xh8yaDcc8Na",
        "outputId": "0694d416-c782-4195-de5f-f8a937cab45a"
      },
      "source": [
        "pip install names"
      ],
      "execution_count": null,
      "outputs": [
        {
          "output_type": "stream",
          "text": [
            "Collecting names\n",
            "  Downloading names-0.3.0.tar.gz (789 kB)\n",
            "\u001b[K     |████████████████████████████████| 789 kB 5.0 MB/s \n",
            "\u001b[?25hBuilding wheels for collected packages: names\n",
            "  Building wheel for names (setup.py) ... \u001b[?25l\u001b[?25hdone\n",
            "  Created wheel for names: filename=names-0.3.0-py3-none-any.whl size=803698 sha256=60f0028f8a92bdd515beb649d80ebd447de9ca01f6253de3ad78215bacaf79e5\n",
            "  Stored in directory: /root/.cache/pip/wheels/05/ea/68/92f6b0669e478af9b7c3c524520d03050089e034edcc775c2b\n",
            "Successfully built names\n",
            "Installing collected packages: names\n",
            "Successfully installed names-0.3.0\n"
          ],
          "name": "stdout"
        }
      ]
    },
    {
      "cell_type": "markdown",
      "metadata": {
        "id": "7ZI4Doqr9Lh2"
      },
      "source": [
        "# sub-generators (values generation functions)\n",
        " (e.g. a generator for Ints between (a,b) without duplicate values)"
      ]
    },
    {
      "cell_type": "code",
      "metadata": {
        "id": "YhSQU0nHtOnS"
      },
      "source": [
        "import names\n",
        "import copy\n",
        "import datetime\n",
        "import random\n",
        "\n",
        "def randomStringsWithoutDuplicateValues(length,numberOfStrings):\n",
        "  shuffled = []\n",
        "  for i in range(0,length,5):\n",
        "    shuffled.append(0)\n",
        "  for idx,i in enumerate(range(0,length,5)):\n",
        "    if i+5 < length:\n",
        "      shuffled[idx] = list(range(100000))\n",
        "      random.shuffle(shuffled[idx])\n",
        "      shuffled[idx] = shuffled[idx][:numberOfStrings]\n",
        "    else:\n",
        "      shuffled[idx] = list(range(10 ** (length - i - 1)))\n",
        "      random.shuffle(shuffled[idx])\n",
        "      shuffled[idx] = shuffled[idx][:numberOfStrings]\n",
        "  res = []\n",
        "  for i in range(numberOfStrings):\n",
        "    element = \"\"\n",
        "    for idx,j in enumerate(range(0,length,5)):\n",
        "      if j+5 < length:\n",
        "        element += str(shuffled[idx][i]).zfill(5)\n",
        "      else:\n",
        "        element += str(shuffled[idx][i]).zfill(length - j)\n",
        "    res.append(\"'\" + element + \"'\")\n",
        "  return res\n",
        "\n",
        "def VarCharIDs(length,numberOfStrings):\n",
        "  return randomStringsWithoutDuplicateValues(length,numberOfStrings)\n",
        "\n",
        "def RandomNames(_,numberOfStrings):\n",
        "  NamesArr =[]\n",
        "  for i in range(numberOfStrings):\n",
        "    NamesArr.append(\"'\"+names.get_full_name()+\"'\")\n",
        "  return NamesArr\n",
        "\n",
        "def RandomFromList(ListOfOptions,numberOfObjects,inheritence = False):\n",
        "  ResArr = []\n",
        "  for i in range(numberOfObjects):\n",
        "    idx = random.randint(0,len(ListOfOptions)-1)\n",
        "    if inheritence:\n",
        "      ResArr.append(ListOfOptions[idx])\n",
        "    else:\n",
        "      ResArr.append(\"'\" + ListOfOptions[idx] + \"'\")\n",
        "  return ResArr\n",
        "\n",
        "def RandomFromListWD(ListOfOptions,numberOfObjects,inheritence = False):\n",
        "  ShuffledOptions = (copy.deepcopy(ListOfOptions))\n",
        "  random.shuffle(ShuffledOptions)\n",
        "  if not inheritence:\n",
        "    for x in ShuffledOptions:\n",
        "      x = \"'\" + x + \"'\"\n",
        "  return ShuffledOptions[:numberOfObjects]\n",
        "\n",
        "def random_date(start, end):\n",
        "    \"\"\"Generate a random datetime between `start` and `end`\"\"\"\n",
        "    return start + datetime.timedelta(\n",
        "        # Get a random amount of seconds between `start` and `end`\n",
        "        seconds=random.randint(0, int((end - start).total_seconds())),\n",
        "    )\n",
        "\n",
        "def RandomDates(_,numberOfDates):\n",
        "  ResArr = []\n",
        "  for i in range(numberOfDates):\n",
        "    date = random_date(datetime.datetime(2020, 1, 1),datetime.datetime(2030, 1, 1))\n",
        "    ResArr.append(\"%s-%s-%s\" % (date.year,date.month,date.day))\n",
        "  return ResArr\n",
        "\n",
        "def RandomInts(range_of_nums,numberOfInts):\n",
        "  ResArr = []\n",
        "  for i in range(numberOfInts):\n",
        "    ResArr.append(str(random.randint(range_of_nums[0],range_of_nums[1])))\n",
        "  return ResArr\n",
        "\n",
        "def IntsWD(range_of_nums,numberOfInts):\n",
        "  ResArr = range(range_of_nums[0],range_of_nums[1])\n",
        "  random.shuffle(ResArr)\n",
        "  return ResArr[:numberOfInts]\n",
        "\n",
        "def InheritVarCharIDs(ListOfOptions,numberOfObjects):\n",
        "  return RandomFromList(ListOfOptions,numberOfObjects,True)\n"
      ],
      "execution_count": null,
      "outputs": []
    },
    {
      "cell_type": "markdown",
      "metadata": {
        "id": "dHRDn2d6-KFe"
      },
      "source": [
        "# \"Table\" class, that is used to handle the data."
      ]
    },
    {
      "cell_type": "code",
      "metadata": {
        "id": "F-5tZiw5_rZK"
      },
      "source": [
        "class Table():\n",
        "  Dictionary = {'ID_Var' : VarCharIDs,\n",
        "                'ID_Var_key' : VarCharIDs,\n",
        "                'Inherited_ID_Var' : InheritVarCharIDs,\n",
        "                'Name' : RandomNames,\n",
        "                'FromList' : RandomFromList,\n",
        "                'FromListWithoutDup' : RandomFromListWD,\n",
        "                'Date': RandomDates,\n",
        "                'Ints' : RandomInts,\n",
        "                'IntsWithoutDup' : IntsWD,\n",
        "                'preprocessed' : None,}\n",
        "  def __init__(self,_Name,_Tags = None,_Types_and_Ranges = None,_DataLength = 10):\n",
        "    #print(_Name)\n",
        "    self.Name = _Name\n",
        "    self.Tags = _Tags\n",
        "    if _Tags ==None:\n",
        "      self.Tags = []\n",
        "    #print(self.Tags)\n",
        "    self.Types_and_Ranges = _Types_and_Ranges\n",
        "    if _Types_and_Ranges ==None:\n",
        "      self.Types_and_Ranges = []\n",
        "    self.raws = []\n",
        "    self.DataLength = _DataLength\n",
        "    self.keys = {'tags' : [], 'vals' : []}\n",
        "    for idx,_ in enumerate(self.Types_and_Ranges):\n",
        "      if _Types_and_Ranges[idx][0] == \"ID_Var_key\":\n",
        "        self.keys['tags'].append(self.Tags[idx])\n",
        "        self.Tags.remove(self.Tags[idx])\n",
        "  \n",
        "  def switch(self,x):\n",
        "    return self.Dictionary.get(x)\n",
        "\n",
        "  def create_raws(self):\n",
        "    raws = []\n",
        "    for T_R in self.Types_and_Ranges:\n",
        "      if T_R[0] != \"ID_Var_key\":\n",
        "        self.raws.append(self.switch(T_R[0])(T_R[1],self.DataLength))\n",
        "      else:\n",
        "        self.keys['vals'].append(self.switch(T_R[0])(T_R[1],self.DataLength))\n",
        "\n",
        "  def inherit(self, DataTable):\n",
        "    for idx,_ in enumerate(DataTable.keys['tags']):\n",
        "      self.keys['tags'].append(DataTable.keys['tags'][idx])\n",
        "      self.keys['vals'].append(RandomFromList(DataTable.keys['vals'][idx],self.DataLength, inheritence = True))\n",
        "      print(self.keys['tags'])\n",
        "      \n"
      ],
      "execution_count": null,
      "outputs": []
    },
    {
      "cell_type": "markdown",
      "metadata": {
        "id": "cGpq4siU-cev"
      },
      "source": [
        "# Implementation of ratios and convertion function from \"table\" class to SQL Insert commands."
      ]
    },
    {
      "cell_type": "code",
      "metadata": {
        "id": "LGs0zdoqz2X7"
      },
      "source": [
        "def RatioTwoTables(Name = \"ratio\",Tables = [],_Tags = [],_Types_and_Ranges = [],DataLength = 0,Many = False,ToMany = False):\n",
        "  result = Table(Name,_Tags,_Types_and_Ranges,DataLength)\n",
        "  result.create_raws()\n",
        "  keysTagsList = Tables[0].keys['tags'] + Tables[1].keys['tags']\n",
        "  keysValsList = [RandomFromList(x,DataLength,True) if Many else RandomFromListWD(x,DataLength,True) for x in Tables[0].keys['vals']] + [RandomFromList(x,DataLength,True) if ToMany else RandomFromListWD(x,DataLength,True) for x in Tables[1].keys['vals']]\n",
        "  #print(keysValsList)\n",
        "  #print(\"aaa\",[x for x in Tables[0].keys['vals']])\n",
        "  for i in range(len(keysTagsList)):\n",
        "    result.keys['tags'].append(keysTagsList[i])\n",
        "    result.keys['vals'].append(keysValsList[i])\n",
        "    #print(keysValsList[i])\n",
        "  return result\n",
        "\n",
        "def ConvertValuesToSQL_commands(DataTable):\n",
        "  commands = []\n",
        "  for i in range(DataTable.DataLength):\n",
        "    raw = []\n",
        "    for j,_ in enumerate(DataTable.keys['tags']):\n",
        "      #print(DataTable.keys['vals'][j])\n",
        "      z = DataTable.keys['vals'][j]\n",
        "      raw.append(DataTable.keys['vals'][j][i])\n",
        "    for j,_ in enumerate(DataTable.Tags):\n",
        "      raw.append(DataTable.raws[j][i])\n",
        "    #print(DataTable.Name)\n",
        "    #print(DataTable.keys['tags'] + DataTable.Tags)\n",
        "    #print(raw)\n",
        "    #print(','.join(raw))\n",
        "    commands.append(\"INSERT INTO %s (%s) VALUES (%s);\" % (DataTable.Name,\", \".join(DataTable.keys['tags'] + DataTable.Tags), \", \".join(raw)))\n",
        "  return \"\\n\".join(commands)\n",
        "\n",
        "\n",
        "\n",
        "def FileWriteTable(DataTable):\n",
        "  text_file = open(DataTable.Name + \".txt\", \"w\")\n",
        "\n",
        "  text_file.write(ConvertValuesToSQL_commands(DataTable))\n",
        "\n",
        "  text_file.close()"
      ],
      "execution_count": null,
      "outputs": []
    },
    {
      "cell_type": "markdown",
      "metadata": {
        "id": "3q5saoK3Z8sz"
      },
      "source": [
        "CREATE TABLE department\n",
        "(\n",
        "  DeptID VARCHAR(10) NOT NULL,\n",
        "  HeadName VARCHAR(15) NOT NULL,\n",
        "  HeadID VARCHAR(9) NOT NULL,\n",
        "  PRIMARY KEY (DeptID)\n",
        ");\n",
        "\n",
        "CREATE TABLE Student\n",
        "(\n",
        "  StudentID VARCHAR(9) NOT NULL,\n",
        "  Name VARCHAR(20) NOT NULL,\n",
        "  PRIMARY KEY (StudentID)\n",
        ");\n",
        "\n",
        "CREATE TABLE Course\n",
        "(\n",
        "  CourseID VARCHAR(10) NOT NULL,\n",
        "  name VARCHAR(15) NOT NULL,\n",
        "  CoordinatorName VARCHAR(15) NOT NULL,\n",
        "  numberOfPoints INT NOT NULL,\n",
        "  minimumGrade INT NOT NULL,\n",
        "  Required CHAR(1) NOT NULL,\n",
        "  CoordID VARCHAR(10) NOT NULL,\n",
        "  DeptID VARCHAR(10) NOT NULL,\n",
        "  PRIMARY KEY (CourseID, DeptID),\n",
        "  FOREIGN KEY (DeptID) REFERENCES department(DeptID)\n",
        ");\n",
        "\n",
        "CREATE TABLE Test\n",
        "(\n",
        "  TestID VARCHAR(10) NOT NULL,\n",
        "  ExamTime CHAR(1) NOT NULL,\n",
        "  Date DATE NOT NULL,\n",
        "  ExamLength INT NOT NULL,\n",
        "  Reference VARCHAR(50) NOT NULL,\n",
        "  CourseID VARCHAR(10) NOT NULL,\n",
        "  DeptID VARCHAR(10) NOT NULL,\n",
        "  PRIMARY KEY (TestID, CourseID, DeptID),\n",
        "  FOREIGN KEY (CourseID, DeptID) REFERENCES Course(CourseID, DeptID)\n",
        ");\n",
        "\n",
        "CREATE TABLE studentResults\n",
        "(\n",
        "  Grade INT NOT NULL,\n",
        "  passed CHAR(1) NOT NULL,\n",
        "  StudentID VARCHAR(9) NOT NULL,\n",
        "  TestID VARCHAR(10) NOT NULL,\n",
        "  CourseID VARCHAR(10) NOT NULL,\n",
        "  DeptID VARCHAR(10) NOT NULL,\n",
        "  PRIMARY KEY (StudentID, TestID, CourseID, DeptID),\n",
        "  FOREIGN KEY (StudentID) REFERENCES Student(StudentID),\n",
        "  FOREIGN KEY (TestID, CourseID, DeptID) REFERENCES Test(TestID, CourseID, DeptID)\n",
        ");\n",
        "\n",
        "CREATE TABLE Prerequisite_to\n",
        "(\n",
        "  CourseID_1 VARCHAR(10) NOT NULL,\n",
        "  DeptID VARCHAR(10) NOT NULL,\n",
        "  Prerequisite_toCourseID_2 VARCHAR(10) NOT NULL,\n",
        "  Prerequisite_toDeptID VARCHAR(10) NOT NULL,\n",
        "  PRIMARY KEY (CourseID_1, DeptID, Prerequisite_toCourseID_2, Prerequisite_toDeptID),\n",
        "  FOREIGN KEY (CourseID_1, DeptID) REFERENCES Course(CourseID, DeptID),\n",
        "  FOREIGN KEY (Prerequisite_toCourseID_2, Prerequisite_toDeptID) REFERENCES Course(CourseID, DeptID)\n",
        ");\n",
        "\n",
        "CREATE TABLE Appeal\n",
        "(\n",
        "  AppID VARCHAR(10) NOT NULL,\n",
        "  accepted CHAR(1) NOT NULL,\n",
        "  points INT NOT NULL,\n",
        "  StudentID VARCHAR(9) NOT NULL,\n",
        "  TestID VARCHAR(10) NOT NULL,\n",
        "  CourseID VARCHAR(10) NOT NULL,\n",
        "  DeptID VARCHAR(10) NOT NULL,\n",
        "  PRIMARY KEY (AppID, StudentID, TestID, CourseID, DeptID),\n",
        "  FOREIGN KEY (StudentID, TestID, CourseID, DeptID) REFERENCES studentResults(StudentID, TestID, CourseID, DeptID)\n",
        ");\n",
        "\n",
        "CREATE TABLE regitered\n",
        "(\n",
        "  StudentID VARCHAR(9) NOT NULL,\n",
        "  TestID VARCHAR(10) NOT NULL,\n",
        "  CourseID VARCHAR(10) NOT NULL,\n",
        "  DeptID VARCHAR(10) NOT NULL,\n",
        "  PRIMARY KEY (StudentID, TestID, CourseID, DeptID),\n",
        "  FOREIGN KEY (StudentID) REFERENCES Student(StudentID),\n",
        "  FOREIGN KEY (TestID, CourseID, DeptID) REFERENCES Test(TestID, CourseID, DeptID)\n",
        ");"
      ]
    },
    {
      "cell_type": "markdown",
      "metadata": {
        "id": "1ZY2mDcA_T_g"
      },
      "source": [
        "# Initialize table with .csv file"
      ]
    },
    {
      "cell_type": "code",
      "metadata": {
        "id": "7hiWLjtLZ6KZ"
      },
      "source": [
        "import pandas as pd\n",
        "\n",
        "def CSVtoTable(path,keyNames,Name):\n",
        "  df = pd.read_csv(path)\n",
        "  res = Table(Name)\n",
        "  res.__init__(Name)\n",
        "  nameOfCols = df.columns\n",
        "  ColsContent = df.to_dict('list')\n",
        "  for name in nameOfCols:\n",
        "    if name in keyNames:\n",
        "      res.keys['tags'].append(name)\n",
        "      res.keys['vals'].append([\"'\"+str(x)+\"'\" for x in ColsContent[name]])\n",
        "      res.Types_and_Ranges.append([\"ID_Var_key\",len(ColsContent[name])])\n",
        "    if name not in keyNames:\n",
        "      res.Tags.append(name)\n",
        "      res.raws.append([\"'\"+str(x)+\"'\" for x in ColsContent[name]])\n",
        "      res.Types_and_Ranges.append([\"preprocessed\",len(ColsContent[name])])\n",
        "  return res"
      ],
      "execution_count": null,
      "outputs": []
    },
    {
      "cell_type": "markdown",
      "metadata": {
        "id": "vZivIQSz_fgl"
      },
      "source": [
        "# Use case example"
      ]
    },
    {
      "cell_type": "code",
      "metadata": {
        "id": "pH56joKrvNii",
        "colab": {
          "base_uri": "https://localhost:8080/"
        },
        "outputId": "a20ff454-d840-4c37-d617-5e3c67708e23"
      },
      "source": [
        "#Initalize a table with the name Student, and columns names : \"StudentID\" and \"Name\"\n",
        "#after that we define what values we should generate for each column, in our case:\n",
        "#\"StudentID\" is a varchar key with length of 9, and \"Name\" is surprisingly defined as \"Name\" in order to call the names generator.\n",
        "#finally we define the number of raws that we will generate. \n",
        "Student = Table(_Name = \"Student\",_Tags = [\"StudentID\",\"Name\"],_Types_and_Ranges = [('ID_Var_key',9),('Name',_)],_DataLength = 150)\n",
        "# after the setting we call the \"create_raws\" function in order to generate the raws respectively.\n",
        "Student.create_raws()\n",
        "\n",
        "#same as student\n",
        "Department = Table(_Name = \"Department\",_Tags = [\"DeptID\",\"HeadName\",\"HeadID\"],_Types_and_Ranges = [('ID_Var_key',10),('Name',_),('ID_Var',9)],_DataLength = 4)\n",
        "Department.create_raws()\n",
        "\n",
        "#two differences: \n",
        "#1. we use the from_list generator in order to get the course_name which get a predefined list\n",
        "#2. we use the inheritence function because Course identity is depends on his deparment (infi for computer science is different from infi for math)\n",
        "CourseNames = [\"mavo\",\"sifratiot\",\"infi1\",\"infi2\",\"algebra1\",\"algebra2\",\"algorithms1\",\"algorithms2\",\"DBs\",\"MP in DBs\",\"advanced c++\",\"OSs\",\"Automats\",\"compilers\"]\n",
        "Course = Table(_Name = \"Course\",_Tags = [\"CourseID\",\"name\",\"CoordinatorName\",\"numberOfPoints\",\"minimumGrade\",\"Required\",\"CoordID\"],_Types_and_Ranges = [('ID_Var_key',10),('FromListWithoutDup',CourseNames),('Name',_),('Ints',[1,5]),('Ints',[55,80]),('FromList',[\"Y\",\"N\"]),('ID_Var',10)],_DataLength = 12)\n",
        "Course.create_raws()\n",
        "Course.inherit(Department)\n",
        "\n",
        "#same\n",
        "Test = Table(_Name = \"Test\",_Tags = [\"TestID\",\"ExamTime\",\"Date\",\"ExamLength\",\"Reference\"],_Types_and_Ranges = [('ID_Var_key',10),('FromList',[\"A\",\"B\",\"S\"]),('Date',_),('Ints',[90,180]),('FromList',[\"Calculator\",\"A4 page\",\"the material is on the moodle\"])],_DataLength = 23)\n",
        "Test.create_raws()\n",
        "Test.inherit(Course)\n",
        "\n",
        "#same, note that multiple inheritence is possible\n",
        "studentResults = Table(_Name = \"studentResults\",_Tags = [\"Grade\",\"passed\"],_Types_and_Ranges = [('Ints',[90,180]),('Name',_)],_DataLength = 150)\n",
        "studentResults.create_raws()\n",
        "studentResults.inherit(Test)\n",
        "studentResults.inherit(Student)\n",
        "\n",
        "# learn uses the \"RatioTwoTables\" in order to create a ratio between Course and student\n",
        "learn = RatioTwoTables(Name='CourseStudent',Tables=[Course,Student],DataLength = 10)\n",
        "\n",
        "#write the table to SQL's insert commands in a text file\n",
        "FileWriteTable(learn)\n",
        "FileWriteTable(Student)\n",
        "FileWriteTable(Department)\n",
        "FileWriteTable(Course)\n",
        "FileWriteTable(Test)\n",
        "FileWriteTable(studentResults)"
      ],
      "execution_count": null,
      "outputs": [
        {
          "output_type": "stream",
          "text": [
            "['CourseID', 'DeptID']\n",
            "['TestID', 'CourseID']\n",
            "['TestID', 'CourseID', 'DeptID']\n",
            "['TestID']\n",
            "['TestID', 'CourseID']\n",
            "['TestID', 'CourseID', 'DeptID']\n",
            "['TestID', 'CourseID', 'DeptID', 'StudentID']\n"
          ],
          "name": "stdout"
        }
      ]
    }
  ]
}